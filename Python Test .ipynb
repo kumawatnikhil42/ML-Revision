{
 "cells": [
  {
   "cell_type": "markdown",
   "id": "0886d6f4",
   "metadata": {},
   "source": [
    "# Q.1 Write a Python program that takes a user's age as input and determines if the person is eligible to vote."
   ]
  },
  {
   "cell_type": "code",
   "execution_count": 1,
   "id": "afc19aa5",
   "metadata": {},
   "outputs": [
    {
     "name": "stdout",
     "output_type": "stream",
     "text": [
      "Enter Your Age:12\n",
      "You are not eligible for vote.\n"
     ]
    }
   ],
   "source": [
    "age=int(input(\"Enter Your Age:\"))\n",
    "if age>=18:\n",
    "    print(\"You are eligible for vote.\")\n",
    "else:\n",
    "    print(\"You are not eligible for vote.\")"
   ]
  },
  {
   "cell_type": "markdown",
   "id": "9daff548",
   "metadata": {},
   "source": [
    "# Q.2 A store offers a discount of 10% if the total purchase amount exceeds $100. Write a program that asks the user for the total purchase amount and calculates the final price after applying the discount if applicable."
   ]
  },
  {
   "cell_type": "code",
   "execution_count": 5,
   "id": "6fa9dfe3",
   "metadata": {},
   "outputs": [
    {
     "name": "stdout",
     "output_type": "stream",
     "text": [
      "Enter Total Amount:130\n",
      "Final Amount: 117.0\n"
     ]
    }
   ],
   "source": [
    "total=int(input(\"Enter Total Amount:\"))\n",
    "if total<=100:\n",
    "    print(\"Final Amount:\",total)\n",
    "else:\n",
    "    total=total-(total/10)\n",
    "    print(\"Final Amount:\",total)"
   ]
  },
  {
   "cell_type": "markdown",
   "id": "934cebf6",
   "metadata": {},
   "source": [
    "# Q.3  A cinema charges different ticket prices based on age:\n",
    "\n",
    "Children (under 12): $7\n",
    "\n",
    "Adults (12 to 60): $10\n",
    "\n",
    "Seniors (above 60): $8\n",
    "\n",
    "Write a Python program that asks for the user's age and prints the ticket price accordingly."
   ]
  },
  {
   "cell_type": "code",
   "execution_count": 24,
   "id": "79fe078c",
   "metadata": {},
   "outputs": [
    {
     "name": "stdout",
     "output_type": "stream",
     "text": [
      "Enter Your Age:60\n",
      "Ticket Price: $8\n"
     ]
    }
   ],
   "source": [
    "age=int(input(\"Enter Your Age:\"))\n",
    "if age<=12:\n",
    "    print(\"Ticket Price: $7\")\n",
    "elif age<60:\n",
    "    print(\"Ticket Price: $10\")\n",
    "else:\n",
    "    print(\"Ticket Price: $8\")"
   ]
  },
  {
   "cell_type": "markdown",
   "id": "3b8065a0",
   "metadata": {},
   "source": [
    "# Q.4  Write a Python program that checks if a person iseligible for a loan based on their income and credit score. The person is eligible if their income is above $50,000andtheir credit score is above 650."
   ]
  },
  {
   "cell_type": "code",
   "execution_count": 26,
   "id": "09521b40",
   "metadata": {},
   "outputs": [
    {
     "name": "stdout",
     "output_type": "stream",
     "text": [
      "Enter your annual income:3000\n",
      "Enter your credit score:790\n",
      "You are not eligible for loan.\n"
     ]
    }
   ],
   "source": [
    "income=int(input(\"Enter your annual income:\"))\n",
    "credit=int(input(\"Enter your credit score:\"))\n",
    "\n",
    "if income>50000 and credit>650:\n",
    "    print(\"You are eligible for loan.\")\n",
    "else:\n",
    "    print(\"You are not eligible for loan.\")"
   ]
  },
  {
   "cell_type": "markdown",
   "id": "92700e46",
   "metadata": {},
   "source": [
    "# Q.5  A gym offers different types of memberships:\n",
    "Gold: $100/month for unlimited access\n",
    "\n",
    "Silver: $70/month for access 5 times a week\n",
    "\n",
    "Bronze: $50/month for access 3 times a week\n",
    "\n",
    "Write a Python program that asks the user how many times per week they plan to visit the gym and suggests the best membership option."
   ]
  },
  {
   "cell_type": "code",
   "execution_count": 28,
   "id": "67cfad02",
   "metadata": {},
   "outputs": [
    {
     "name": "stdout",
     "output_type": "stream",
     "text": [
      "Enter how many days in a week you visit the gym:30\n",
      "We suggest the gold membership for you.\n"
     ]
    }
   ],
   "source": [
    "u=int(input(\"Enter how many days in a week you visit the gym:\"))\n",
    "\n",
    "if u<=3:\n",
    "    print(\"We suggest the bronze membership for you.\")\n",
    "elif u<=5:\n",
    "    print(\"We suggest the silver membership for you.\")\n",
    "else:\n",
    "    print(\"We suggest the gold membership for you.\")"
   ]
  },
  {
   "cell_type": "markdown",
   "id": "95e2eab2",
   "metadata": {},
   "source": [
    "# Q.6  A company offers free delivery for orders above $50 within the city, but charges  $5 for deliveries outside the city. Write a Python program that asks the user for the order amount and location (inside or outside the city) and calculates the total amount including any delivery charges."
   ]
  },
  {
   "cell_type": "code",
   "execution_count": 32,
   "id": "d8780a05",
   "metadata": {},
   "outputs": [
    {
     "name": "stdout",
     "output_type": "stream",
     "text": [
      "Enter Total amount:45\n",
      "Enter inside or outside the city:Inside\n",
      "Total Amount: 50\n"
     ]
    }
   ],
   "source": [
    "amount=int(input(\"Enter Total amount:\"))\n",
    "city=input(\"Enter inside or outside the city:\")\n",
    "if amount>50 and city==\"Inside\":\n",
    "    print(\"Total Amount:\",amount)\n",
    "else:\n",
    "    print(\"Total Amount:\",amount+5)"
   ]
  },
  {
   "cell_type": "markdown",
   "id": "28325013",
   "metadata": {},
   "source": [
    "# Q.7 A parking lot charges $5 for the first 2 hours and $3 for every additional hour. Write a program that takes the number of hours a vehicle was parked as input and calculates the total parking fee."
   ]
  },
  {
   "cell_type": "code",
   "execution_count": 42,
   "id": "30fe9f09",
   "metadata": {},
   "outputs": [
    {
     "name": "stdout",
     "output_type": "stream",
     "text": [
      "Enter the number of hours a vehicle was parked:3\n",
      "Total Amount: 8\n"
     ]
    }
   ],
   "source": [
    "time=int(input(\"Enter the number of hours a vehicle was parked:\"))\n",
    "amount=5\n",
    "t=0\n",
    "for i in range(0,time+1):\n",
    "    if t < 2:\n",
    "        amount=5\n",
    "        t+=i\n",
    "    else:\n",
    "        amount+=3\n",
    "        t+=i\n",
    "print(\"Total Amount:\",amount)"
   ]
  },
  {
   "cell_type": "markdown",
   "id": "cd8cfbc5",
   "metadata": {},
   "source": [
    "# Q.8  An electricity company charges different rates based on usage:\n",
    "\n",
    "First 100 units: $0.10/unit\n",
    "\n",
    "Next 100 units: $0.15/unit\n",
    "\n",
    "Above 200 units: $0.20/unit\n",
    "\n",
    "Write a program that asks the user for the number of units consumed and calculates the total bill."
   ]
  },
  {
   "cell_type": "code",
   "execution_count": 58,
   "id": "4e4e95fc",
   "metadata": {},
   "outputs": [
    {
     "name": "stdout",
     "output_type": "stream",
     "text": [
      "Enter total Units:200\n",
      "Total Bill: 24.99999999999991\n"
     ]
    }
   ],
   "source": [
    "units=int(input(\"Enter total Units:\"))\n",
    "amount=0\n",
    "for i in range(1,units+1):\n",
    "    if i<=100:\n",
    "#         print(i,amount,\"+0.10\")\n",
    "        amount=amount+0.10\n",
    "        \n",
    "    elif i>100:\n",
    "#         print(i,amount,\"+0.15\")\n",
    "        amount=amount+0.15\n",
    "    elif i>200:\n",
    "        amount=amount+0.20\n",
    "print(\"Total Bill:\",amount)"
   ]
  },
  {
   "cell_type": "markdown",
   "id": "d4419abd",
   "metadata": {},
   "source": [
    "# Q.9  Write a Python program that takes a student's exam score as input and prints their grade based on the following:\n",
    "\n",
    "Score >= 90: Grade A\n",
    "\n",
    "Score 80–89: Grade B\n",
    "\n",
    "Score 70–79: Grade C\n",
    "\n",
    "Score 60–69: Grade D\n",
    "\n",
    "Score < 60: Grade F\n"
   ]
  },
  {
   "cell_type": "code",
   "execution_count": 64,
   "id": "dd81ddc2",
   "metadata": {},
   "outputs": [
    {
     "name": "stdout",
     "output_type": "stream",
     "text": [
      "Enter the your score:79\n",
      "Your grade: Grade C\n"
     ]
    }
   ],
   "source": [
    "score=int(input(\"Enter the your score:\"))\n",
    "if score>=90:\n",
    "    print(\"Your grade: Grade A\")\n",
    "elif score>=80:\n",
    "    print(\"Your grade: Grade B\")\n",
    "elif score>=70:\n",
    "    print(\"Your grade: Grade C\")\n",
    "elif score>=60:\n",
    "    print(\"Your grade: Grade D\")\n",
    "else:\n",
    "    print(\"Your grade: Grade F\")\n",
    "    \n",
    "    "
   ]
  },
  {
   "cell_type": "markdown",
   "id": "325ad5ed",
   "metadata": {},
   "source": [
    "# Q.10  An airline allows a free baggage allowance of 15kg. If the baggage exceeds 15kg, the passenger is charged $10 per extra kilogram. Write a Python program that asks for the weight of the baggage and calculates the total charge if any."
   ]
  },
  {
   "cell_type": "code",
   "execution_count": 69,
   "id": "dc1b9e34",
   "metadata": {},
   "outputs": [
    {
     "name": "stdout",
     "output_type": "stream",
     "text": [
      "Enter Weight of the baggage:40\n",
      "Total amount 250\n"
     ]
    }
   ],
   "source": [
    "weight=int(input(\"Enter Weight of the baggage:\"))\n",
    "amount=0\n",
    "for i in range(15,weight+1):\n",
    "    if i>15:\n",
    "        amount+=10\n",
    "print(\"Total amount\",amount)"
   ]
  },
  {
   "cell_type": "code",
   "execution_count": null,
   "id": "a99e1511",
   "metadata": {},
   "outputs": [],
   "source": []
  }
 ],
 "metadata": {
  "kernelspec": {
   "display_name": "Python 3 (ipykernel)",
   "language": "python",
   "name": "python3"
  },
  "language_info": {
   "codemirror_mode": {
    "name": "ipython",
    "version": 3
   },
   "file_extension": ".py",
   "mimetype": "text/x-python",
   "name": "python",
   "nbconvert_exporter": "python",
   "pygments_lexer": "ipython3",
   "version": "3.11.5"
  }
 },
 "nbformat": 4,
 "nbformat_minor": 5
}
